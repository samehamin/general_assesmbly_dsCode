{
 "cells": [
  {
   "cell_type": "code",
   "execution_count": 1,
   "metadata": {},
   "outputs": [
    {
     "ename": "ModuleNotFoundError",
     "evalue": "No module named 'wordcloud'",
     "output_type": "error",
     "traceback": [
      "\u001b[0;31m---------------------------------------------------------------------------\u001b[0m",
      "\u001b[0;31mModuleNotFoundError\u001b[0m                       Traceback (most recent call last)",
      "\u001b[0;32m<ipython-input-1-2b2cedc0b981>\u001b[0m in \u001b[0;36m<module>\u001b[0;34m\u001b[0m\n\u001b[1;32m      7\u001b[0m \u001b[0;32mimport\u001b[0m \u001b[0mnltk\u001b[0m\u001b[0;34m\u001b[0m\u001b[0;34m\u001b[0m\u001b[0m\n\u001b[1;32m      8\u001b[0m \u001b[0;32mfrom\u001b[0m \u001b[0mnltk\u001b[0m\u001b[0;34m.\u001b[0m\u001b[0mstem\u001b[0m\u001b[0;34m.\u001b[0m\u001b[0mporter\u001b[0m \u001b[0;32mimport\u001b[0m \u001b[0;34m*\u001b[0m\u001b[0;34m\u001b[0m\u001b[0;34m\u001b[0m\u001b[0m\n\u001b[0;32m----> 9\u001b[0;31m \u001b[0;32mfrom\u001b[0m \u001b[0mwordcloud\u001b[0m \u001b[0;32mimport\u001b[0m \u001b[0mWordCloud\u001b[0m\u001b[0;34m\u001b[0m\u001b[0;34m\u001b[0m\u001b[0m\n\u001b[0m\u001b[1;32m     10\u001b[0m \u001b[0;32mfrom\u001b[0m \u001b[0msklearn\u001b[0m\u001b[0;34m.\u001b[0m\u001b[0mmodel_selection\u001b[0m \u001b[0;32mimport\u001b[0m \u001b[0mtrain_test_split\u001b[0m\u001b[0;34m\u001b[0m\u001b[0;34m\u001b[0m\u001b[0m\n\u001b[1;32m     11\u001b[0m \u001b[0;32mfrom\u001b[0m \u001b[0msklearn\u001b[0m\u001b[0;34m.\u001b[0m\u001b[0mfeature_extraction\u001b[0m\u001b[0;34m.\u001b[0m\u001b[0mtext\u001b[0m \u001b[0;32mimport\u001b[0m \u001b[0mCountVectorizer\u001b[0m\u001b[0;34m\u001b[0m\u001b[0;34m\u001b[0m\u001b[0m\n",
      "\u001b[0;31mModuleNotFoundError\u001b[0m: No module named 'wordcloud'"
     ]
    }
   ],
   "source": [
    "import pandas as pd\n",
    "import numpy as np\n",
    "import seaborn as sns\n",
    "import matplotlib.pyplot as plt\n",
    "%matplotlib inline\n",
    "import re\n",
    "import nltk\n",
    "from nltk.stem.porter import *\n",
    "from wordcloud import WordCloud\n",
    "from sklearn.model_selection import train_test_split\n",
    "from sklearn.feature_extraction.text import CountVectorizer\n",
    "from sklearn.feature_extraction.text import TfidfVectorizer\n",
    "from sklearn.linear_model import LogisticRegression\n",
    "from sklearn.model_selection import train_test_split\n",
    "from sklearn.metrics import f1_score\n",
    "from sklearn_pandas import DataFrameMapper, cross_val_score"
   ]
  },
  {
   "cell_type": "markdown",
   "metadata": {},
   "source": [
    "## Reading and exploring tweets"
   ]
  },
  {
   "cell_type": "code",
   "execution_count": null,
   "metadata": {},
   "outputs": [],
   "source": [
    "tweets_df = pd.read_csv(\"Tweets.csv\")"
   ]
  },
  {
   "cell_type": "code",
   "execution_count": null,
   "metadata": {},
   "outputs": [],
   "source": [
    "tweets_df.info()"
   ]
  },
  {
   "cell_type": "code",
   "execution_count": null,
   "metadata": {},
   "outputs": [],
   "source": [
    "tweets_df.describe(include='all')"
   ]
  },
  {
   "cell_type": "code",
   "execution_count": null,
   "metadata": {},
   "outputs": [],
   "source": [
    "tweets_df.tail()"
   ]
  },
  {
   "cell_type": "markdown",
   "metadata": {},
   "source": [
    "### Exploring categorical data"
   ]
  },
  {
   "cell_type": "code",
   "execution_count": null,
   "metadata": {},
   "outputs": [],
   "source": [
    "print (tweets_df['airline_sentiment'].value_counts())\n",
    "ax = sns.catplot(x='airline_sentiment',kind='count',data=tweets_df)\n",
    "ax.fig.autofmt_xdate()"
   ]
  },
  {
   "cell_type": "code",
   "execution_count": null,
   "metadata": {},
   "outputs": [],
   "source": [
    "tweets_df['tweet_location'].value_counts()[:10]"
   ]
  },
  {
   "cell_type": "code",
   "execution_count": 40,
   "metadata": {},
   "outputs": [
    {
     "data": {
      "text/plain": [
       "None                           4740\n",
       "Eastern Time (US & Canada)     3700\n",
       "Central Time (US & Canada)     1881\n",
       "Pacific Time (US & Canada)     1184\n",
       "Quito                           712\n",
       "Atlantic Time (Canada)          491\n",
       "Mountain Time (US & Canada)     351\n",
       "Arizona                         225\n",
       "London                          187\n",
       "Sydney                          107\n",
       "Name: user_timezone, dtype: int64"
      ]
     },
     "execution_count": 40,
     "metadata": {},
     "output_type": "execute_result"
    }
   ],
   "source": [
    "tweets_df['user_timezone'].value_counts()[:10]"
   ]
  },
  {
   "cell_type": "code",
   "execution_count": 41,
   "metadata": {},
   "outputs": [
    {
     "data": {
      "text/plain": [
       "JetBlueNews        63\n",
       "kbosspotter        32\n",
       "_mhertz            29\n",
       "otisday            28\n",
       "throthra           27\n",
       "rossj987           23\n",
       "GREATNESSEOA       22\n",
       "scoobydoo9749      21\n",
       "weezerandburnie    21\n",
       "MeeestarCoke       20\n",
       "Name: name, dtype: int64"
      ]
     },
     "execution_count": 41,
     "metadata": {},
     "output_type": "execute_result"
    }
   ],
   "source": [
    "tweets_df['name'].value_counts()[:10]"
   ]
  },
  {
   "cell_type": "markdown",
   "metadata": {},
   "source": [
    "## Tweets pre-processing"
   ]
  },
  {
   "cell_type": "markdown",
   "metadata": {},
   "source": [
    "### Remove duplicates"
   ]
  },
  {
   "cell_type": "code",
   "execution_count": 42,
   "metadata": {},
   "outputs": [
    {
     "data": {
      "text/plain": [
       "(14366, 9)"
      ]
     },
     "execution_count": 42,
     "metadata": {},
     "output_type": "execute_result"
    }
   ],
   "source": [
    "tweets_df.shape"
   ]
  },
  {
   "cell_type": "code",
   "execution_count": 43,
   "metadata": {},
   "outputs": [],
   "source": [
    "tweets_df.sort_values(\"text\", inplace=True)\n",
    "tweets_df.drop_duplicates(keep=False,inplace=True)"
   ]
  },
  {
   "cell_type": "code",
   "execution_count": 44,
   "metadata": {},
   "outputs": [
    {
     "data": {
      "text/plain": [
       "(14366, 9)"
      ]
     },
     "execution_count": 44,
     "metadata": {},
     "output_type": "execute_result"
    }
   ],
   "source": [
    "tweets_df.shape"
   ]
  },
  {
   "cell_type": "markdown",
   "metadata": {},
   "source": [
    "### Handling nulls values"
   ]
  },
  {
   "cell_type": "code",
   "execution_count": 45,
   "metadata": {},
   "outputs": [
    {
     "name": "stdout",
     "output_type": "stream",
     "text": [
      "(0, 9)\n",
      "(0, 9)\n",
      "(0, 9)\n",
      "(0, 9)\n"
     ]
    }
   ],
   "source": [
    "# find nan values\n",
    "print(tweets_df[~tweets_df.name.notnull()].shape)\n",
    "print(tweets_df[~tweets_df.text.notnull()].shape)\n",
    "print(tweets_df[~tweets_df.tweet_location.notnull()].shape)\n",
    "print(tweets_df[~tweets_df.user_timezone.notnull()].shape)"
   ]
  },
  {
   "cell_type": "code",
   "execution_count": 46,
   "metadata": {},
   "outputs": [
    {
     "data": {
      "text/plain": [
       "(14366, 9)"
      ]
     },
     "execution_count": 46,
     "metadata": {},
     "output_type": "execute_result"
    }
   ],
   "source": [
    "tweets_df.shape"
   ]
  },
  {
   "cell_type": "code",
   "execution_count": 47,
   "metadata": {},
   "outputs": [],
   "source": [
    "tweets_df.tweet_location = tweets_df.tweet_location.fillna('None')\n",
    "tweets_df.user_timezone = tweets_df.user_timezone.fillna('None')\n",
    "\n",
    "#columns = ['text', 'name', 'tweet_location', 'user_timezone']\n",
    "#tweets_df = tweets_df.dropna(subset=columns)"
   ]
  },
  {
   "cell_type": "code",
   "execution_count": 48,
   "metadata": {},
   "outputs": [
    {
     "name": "stdout",
     "output_type": "stream",
     "text": [
      "(0, 9)\n",
      "(0, 9)\n",
      "(14366, 9)\n"
     ]
    }
   ],
   "source": [
    "print(tweets_df[~tweets_df.tweet_location.notnull()].shape)\n",
    "print(tweets_df[~tweets_df.user_timezone.notnull()].shape)\n",
    "print(tweets_df.shape)"
   ]
  },
  {
   "cell_type": "code",
   "execution_count": 49,
   "metadata": {},
   "outputs": [
    {
     "data": {
      "text/html": [
       "<div>\n",
       "<style scoped>\n",
       "    .dataframe tbody tr th:only-of-type {\n",
       "        vertical-align: middle;\n",
       "    }\n",
       "\n",
       "    .dataframe tbody tr th {\n",
       "        vertical-align: top;\n",
       "    }\n",
       "\n",
       "    .dataframe thead th {\n",
       "        text-align: right;\n",
       "    }\n",
       "</style>\n",
       "<table border=\"1\" class=\"dataframe\">\n",
       "  <thead>\n",
       "    <tr style=\"text-align: right;\">\n",
       "      <th></th>\n",
       "      <th>tweet_id</th>\n",
       "      <th>airline_sentiment</th>\n",
       "      <th>name</th>\n",
       "      <th>text</th>\n",
       "      <th>tweet_coord</th>\n",
       "      <th>tweet_created</th>\n",
       "      <th>tweet_location</th>\n",
       "      <th>user_timezone</th>\n",
       "      <th>tidy_tweet</th>\n",
       "    </tr>\n",
       "  </thead>\n",
       "  <tbody>\n",
       "    <tr>\n",
       "      <th>4978</th>\n",
       "      <td>5.695870e+17</td>\n",
       "      <td>negative</td>\n",
       "      <td>danihampton</td>\n",
       "      <td>&amp;lt;3 &amp;lt;3 RT @SouthwestAir! @danihampton Sor...</td>\n",
       "      <td>NaN</td>\n",
       "      <td>2/22/2015 11:58</td>\n",
       "      <td>None</td>\n",
       "      <td>Arizona</td>\n",
       "      <td>sorri hear about wifi connect dani pleas your ...</td>\n",
       "    </tr>\n",
       "  </tbody>\n",
       "</table>\n",
       "</div>"
      ],
      "text/plain": [
       "          tweet_id airline_sentiment         name  \\\n",
       "4978  5.695870e+17          negative  danihampton   \n",
       "\n",
       "                                                   text tweet_coord  \\\n",
       "4978  &lt;3 &lt;3 RT @SouthwestAir! @danihampton Sor...         NaN   \n",
       "\n",
       "        tweet_created tweet_location user_timezone  \\\n",
       "4978  2/22/2015 11:58           None       Arizona   \n",
       "\n",
       "                                             tidy_tweet  \n",
       "4978  sorri hear about wifi connect dani pleas your ...  "
      ]
     },
     "execution_count": 49,
     "metadata": {},
     "output_type": "execute_result"
    }
   ],
   "source": [
    "tweets_df[tweets_df.tweet_location=='None'].head(1)"
   ]
  },
  {
   "cell_type": "markdown",
   "metadata": {},
   "source": [
    "### Removing Twitter Handles (@user) "
   ]
  },
  {
   "cell_type": "code",
   "execution_count": 50,
   "metadata": {},
   "outputs": [
    {
     "data": {
      "text/html": [
       "<div>\n",
       "<style scoped>\n",
       "    .dataframe tbody tr th:only-of-type {\n",
       "        vertical-align: middle;\n",
       "    }\n",
       "\n",
       "    .dataframe tbody tr th {\n",
       "        vertical-align: top;\n",
       "    }\n",
       "\n",
       "    .dataframe thead th {\n",
       "        text-align: right;\n",
       "    }\n",
       "</style>\n",
       "<table border=\"1\" class=\"dataframe\">\n",
       "  <thead>\n",
       "    <tr style=\"text-align: right;\">\n",
       "      <th></th>\n",
       "      <th>tweet_id</th>\n",
       "      <th>airline_sentiment</th>\n",
       "      <th>name</th>\n",
       "      <th>text</th>\n",
       "      <th>tweet_coord</th>\n",
       "      <th>tweet_created</th>\n",
       "      <th>tweet_location</th>\n",
       "      <th>user_timezone</th>\n",
       "      <th>tidy_tweet</th>\n",
       "    </tr>\n",
       "  </thead>\n",
       "  <tbody>\n",
       "    <tr>\n",
       "      <th>7064</th>\n",
       "      <td>5.699430e+17</td>\n",
       "      <td>positive</td>\n",
       "      <td>SeanUppercut</td>\n",
       "      <td>\"LOL you guys are so on it\" - me, had this bee...</td>\n",
       "      <td>NaN</td>\n",
       "      <td>2/23/2015 11:31</td>\n",
       "      <td>Detroit, MI</td>\n",
       "      <td>Quito</td>\n",
       "      <td>\"LOL you guys are so on it\" - me, had this bee...</td>\n",
       "    </tr>\n",
       "    <tr>\n",
       "      <th>7008</th>\n",
       "      <td>5.699590e+17</td>\n",
       "      <td>neutral</td>\n",
       "      <td>UAKShine</td>\n",
       "      <td>#Real RT @JetBlue: Our fleet's on fleek. http:...</td>\n",
       "      <td>NaN</td>\n",
       "      <td>2/23/2015 12:34</td>\n",
       "      <td>Bushmansted</td>\n",
       "      <td>Quito</td>\n",
       "      <td>#Real RT : Our fleet's on fleek. http://t.co/E...</td>\n",
       "    </tr>\n",
       "    <tr>\n",
       "      <th>14272</th>\n",
       "      <td>5.696430e+17</td>\n",
       "      <td>negative</td>\n",
       "      <td>sarrraright</td>\n",
       "      <td>#nothelpful MT @AmericanAir: Our call volume i...</td>\n",
       "      <td>NaN</td>\n",
       "      <td>2/22/2015 15:42</td>\n",
       "      <td>Cathedral Heights</td>\n",
       "      <td>Eastern Time (US &amp; Canada)</td>\n",
       "      <td>#nothelpful MT : Our call volume is extremely ...</td>\n",
       "    </tr>\n",
       "    <tr>\n",
       "      <th>4978</th>\n",
       "      <td>5.695870e+17</td>\n",
       "      <td>negative</td>\n",
       "      <td>danihampton</td>\n",
       "      <td>&amp;lt;3 &amp;lt;3 RT @SouthwestAir! @danihampton Sor...</td>\n",
       "      <td>NaN</td>\n",
       "      <td>2/22/2015 11:58</td>\n",
       "      <td>None</td>\n",
       "      <td>Arizona</td>\n",
       "      <td>&amp;lt;3 &amp;lt;3 RT !  Sorry to hear about the WiFi...</td>\n",
       "    </tr>\n",
       "    <tr>\n",
       "      <th>7092</th>\n",
       "      <td>5.699380e+17</td>\n",
       "      <td>neutral</td>\n",
       "      <td>MelechT</td>\n",
       "      <td>*On the brink of bankruptcy. “@JetBlue: Our fl...</td>\n",
       "      <td>NaN</td>\n",
       "      <td>2/23/2015 11:14</td>\n",
       "      <td>DMV</td>\n",
       "      <td>Central Time (US &amp; Canada)</td>\n",
       "      <td>*On the brink of bankruptcy. “: Our fleet's on...</td>\n",
       "    </tr>\n",
       "  </tbody>\n",
       "</table>\n",
       "</div>"
      ],
      "text/plain": [
       "           tweet_id airline_sentiment          name  \\\n",
       "7064   5.699430e+17          positive  SeanUppercut   \n",
       "7008   5.699590e+17           neutral      UAKShine   \n",
       "14272  5.696430e+17          negative   sarrraright   \n",
       "4978   5.695870e+17          negative   danihampton   \n",
       "7092   5.699380e+17           neutral       MelechT   \n",
       "\n",
       "                                                    text tweet_coord  \\\n",
       "7064   \"LOL you guys are so on it\" - me, had this bee...         NaN   \n",
       "7008   #Real RT @JetBlue: Our fleet's on fleek. http:...         NaN   \n",
       "14272  #nothelpful MT @AmericanAir: Our call volume i...         NaN   \n",
       "4978   &lt;3 &lt;3 RT @SouthwestAir! @danihampton Sor...         NaN   \n",
       "7092   *On the brink of bankruptcy. “@JetBlue: Our fl...         NaN   \n",
       "\n",
       "         tweet_created     tweet_location               user_timezone  \\\n",
       "7064   2/23/2015 11:31        Detroit, MI                       Quito   \n",
       "7008   2/23/2015 12:34        Bushmansted                       Quito   \n",
       "14272  2/22/2015 15:42  Cathedral Heights  Eastern Time (US & Canada)   \n",
       "4978   2/22/2015 11:58               None                     Arizona   \n",
       "7092   2/23/2015 11:14                DMV  Central Time (US & Canada)   \n",
       "\n",
       "                                              tidy_tweet  \n",
       "7064   \"LOL you guys are so on it\" - me, had this bee...  \n",
       "7008   #Real RT : Our fleet's on fleek. http://t.co/E...  \n",
       "14272  #nothelpful MT : Our call volume is extremely ...  \n",
       "4978   &lt;3 &lt;3 RT !  Sorry to hear about the WiFi...  \n",
       "7092   *On the brink of bankruptcy. “: Our fleet's on...  "
      ]
     },
     "execution_count": 50,
     "metadata": {},
     "output_type": "execute_result"
    }
   ],
   "source": [
    "tweets_df['tidy_tweet'] = tweets_df['text'].replace(r'@[\\w]*', '', regex=True)\n",
    "tweets_df.head()"
   ]
  },
  {
   "cell_type": "markdown",
   "metadata": {},
   "source": [
    "### Removing Punctuations, Numbers, and Special Characters"
   ]
  },
  {
   "cell_type": "code",
   "execution_count": 51,
   "metadata": {},
   "outputs": [],
   "source": [
    "tweets_df['tidy_tweet'] = tweets_df['tidy_tweet'].str.replace(\"[^a-zA-Z#]\", \" \")"
   ]
  },
  {
   "cell_type": "code",
   "execution_count": 52,
   "metadata": {},
   "outputs": [
    {
     "data": {
      "text/html": [
       "<div>\n",
       "<style scoped>\n",
       "    .dataframe tbody tr th:only-of-type {\n",
       "        vertical-align: middle;\n",
       "    }\n",
       "\n",
       "    .dataframe tbody tr th {\n",
       "        vertical-align: top;\n",
       "    }\n",
       "\n",
       "    .dataframe thead th {\n",
       "        text-align: right;\n",
       "    }\n",
       "</style>\n",
       "<table border=\"1\" class=\"dataframe\">\n",
       "  <thead>\n",
       "    <tr style=\"text-align: right;\">\n",
       "      <th></th>\n",
       "      <th>tweet_id</th>\n",
       "      <th>airline_sentiment</th>\n",
       "      <th>name</th>\n",
       "      <th>text</th>\n",
       "      <th>tweet_coord</th>\n",
       "      <th>tweet_created</th>\n",
       "      <th>tweet_location</th>\n",
       "      <th>user_timezone</th>\n",
       "      <th>tidy_tweet</th>\n",
       "    </tr>\n",
       "  </thead>\n",
       "  <tbody>\n",
       "    <tr>\n",
       "      <th>7064</th>\n",
       "      <td>5.699430e+17</td>\n",
       "      <td>positive</td>\n",
       "      <td>SeanUppercut</td>\n",
       "      <td>\"LOL you guys are so on it\" - me, had this bee...</td>\n",
       "      <td>NaN</td>\n",
       "      <td>2/23/2015 11:31</td>\n",
       "      <td>Detroit, MI</td>\n",
       "      <td>Quito</td>\n",
       "      <td>LOL you guys are so on it    me  had this bee...</td>\n",
       "    </tr>\n",
       "    <tr>\n",
       "      <th>7008</th>\n",
       "      <td>5.699590e+17</td>\n",
       "      <td>neutral</td>\n",
       "      <td>UAKShine</td>\n",
       "      <td>#Real RT @JetBlue: Our fleet's on fleek. http:...</td>\n",
       "      <td>NaN</td>\n",
       "      <td>2/23/2015 12:34</td>\n",
       "      <td>Bushmansted</td>\n",
       "      <td>Quito</td>\n",
       "      <td>#Real RT   Our fleet s on fleek  http   t co E...</td>\n",
       "    </tr>\n",
       "    <tr>\n",
       "      <th>14272</th>\n",
       "      <td>5.696430e+17</td>\n",
       "      <td>negative</td>\n",
       "      <td>sarrraright</td>\n",
       "      <td>#nothelpful MT @AmericanAir: Our call volume i...</td>\n",
       "      <td>NaN</td>\n",
       "      <td>2/22/2015 15:42</td>\n",
       "      <td>Cathedral Heights</td>\n",
       "      <td>Eastern Time (US &amp; Canada)</td>\n",
       "      <td>#nothelpful MT   Our call volume is extremely ...</td>\n",
       "    </tr>\n",
       "    <tr>\n",
       "      <th>4978</th>\n",
       "      <td>5.695870e+17</td>\n",
       "      <td>negative</td>\n",
       "      <td>danihampton</td>\n",
       "      <td>&amp;lt;3 &amp;lt;3 RT @SouthwestAir! @danihampton Sor...</td>\n",
       "      <td>NaN</td>\n",
       "      <td>2/22/2015 11:58</td>\n",
       "      <td>None</td>\n",
       "      <td>Arizona</td>\n",
       "      <td>lt    lt   RT    Sorry to hear about the WiFi...</td>\n",
       "    </tr>\n",
       "    <tr>\n",
       "      <th>7092</th>\n",
       "      <td>5.699380e+17</td>\n",
       "      <td>neutral</td>\n",
       "      <td>MelechT</td>\n",
       "      <td>*On the brink of bankruptcy. “@JetBlue: Our fl...</td>\n",
       "      <td>NaN</td>\n",
       "      <td>2/23/2015 11:14</td>\n",
       "      <td>DMV</td>\n",
       "      <td>Central Time (US &amp; Canada)</td>\n",
       "      <td>On the brink of bankruptcy     Our fleet s on...</td>\n",
       "    </tr>\n",
       "  </tbody>\n",
       "</table>\n",
       "</div>"
      ],
      "text/plain": [
       "           tweet_id airline_sentiment          name  \\\n",
       "7064   5.699430e+17          positive  SeanUppercut   \n",
       "7008   5.699590e+17           neutral      UAKShine   \n",
       "14272  5.696430e+17          negative   sarrraright   \n",
       "4978   5.695870e+17          negative   danihampton   \n",
       "7092   5.699380e+17           neutral       MelechT   \n",
       "\n",
       "                                                    text tweet_coord  \\\n",
       "7064   \"LOL you guys are so on it\" - me, had this bee...         NaN   \n",
       "7008   #Real RT @JetBlue: Our fleet's on fleek. http:...         NaN   \n",
       "14272  #nothelpful MT @AmericanAir: Our call volume i...         NaN   \n",
       "4978   &lt;3 &lt;3 RT @SouthwestAir! @danihampton Sor...         NaN   \n",
       "7092   *On the brink of bankruptcy. “@JetBlue: Our fl...         NaN   \n",
       "\n",
       "         tweet_created     tweet_location               user_timezone  \\\n",
       "7064   2/23/2015 11:31        Detroit, MI                       Quito   \n",
       "7008   2/23/2015 12:34        Bushmansted                       Quito   \n",
       "14272  2/22/2015 15:42  Cathedral Heights  Eastern Time (US & Canada)   \n",
       "4978   2/22/2015 11:58               None                     Arizona   \n",
       "7092   2/23/2015 11:14                DMV  Central Time (US & Canada)   \n",
       "\n",
       "                                              tidy_tweet  \n",
       "7064    LOL you guys are so on it    me  had this bee...  \n",
       "7008   #Real RT   Our fleet s on fleek  http   t co E...  \n",
       "14272  #nothelpful MT   Our call volume is extremely ...  \n",
       "4978    lt    lt   RT    Sorry to hear about the WiFi...  \n",
       "7092    On the brink of bankruptcy     Our fleet s on...  "
      ]
     },
     "execution_count": 52,
     "metadata": {},
     "output_type": "execute_result"
    }
   ],
   "source": [
    "tweets_df.head()"
   ]
  },
  {
   "cell_type": "markdown",
   "metadata": {},
   "source": [
    "### Removing Short Words"
   ]
  },
  {
   "cell_type": "code",
   "execution_count": 53,
   "metadata": {},
   "outputs": [],
   "source": [
    "tweets_df['tidy_tweet'] = tweets_df['tidy_tweet'].apply(lambda x: ' '.join([w for w in x.split() if len(w)>3]))"
   ]
  },
  {
   "cell_type": "code",
   "execution_count": 54,
   "metadata": {},
   "outputs": [
    {
     "data": {
      "text/html": [
       "<div>\n",
       "<style scoped>\n",
       "    .dataframe tbody tr th:only-of-type {\n",
       "        vertical-align: middle;\n",
       "    }\n",
       "\n",
       "    .dataframe tbody tr th {\n",
       "        vertical-align: top;\n",
       "    }\n",
       "\n",
       "    .dataframe thead th {\n",
       "        text-align: right;\n",
       "    }\n",
       "</style>\n",
       "<table border=\"1\" class=\"dataframe\">\n",
       "  <thead>\n",
       "    <tr style=\"text-align: right;\">\n",
       "      <th></th>\n",
       "      <th>tweet_id</th>\n",
       "      <th>airline_sentiment</th>\n",
       "      <th>name</th>\n",
       "      <th>text</th>\n",
       "      <th>tweet_coord</th>\n",
       "      <th>tweet_created</th>\n",
       "      <th>tweet_location</th>\n",
       "      <th>user_timezone</th>\n",
       "      <th>tidy_tweet</th>\n",
       "    </tr>\n",
       "  </thead>\n",
       "  <tbody>\n",
       "    <tr>\n",
       "      <th>7064</th>\n",
       "      <td>5.699430e+17</td>\n",
       "      <td>positive</td>\n",
       "      <td>SeanUppercut</td>\n",
       "      <td>\"LOL you guys are so on it\" - me, had this bee...</td>\n",
       "      <td>NaN</td>\n",
       "      <td>2/23/2015 11:31</td>\n",
       "      <td>Detroit, MI</td>\n",
       "      <td>Quito</td>\n",
       "      <td>guys this been months fleet fleek http LYcARlTFHl</td>\n",
       "    </tr>\n",
       "    <tr>\n",
       "      <th>7008</th>\n",
       "      <td>5.699590e+17</td>\n",
       "      <td>neutral</td>\n",
       "      <td>UAKShine</td>\n",
       "      <td>#Real RT @JetBlue: Our fleet's on fleek. http:...</td>\n",
       "      <td>NaN</td>\n",
       "      <td>2/23/2015 12:34</td>\n",
       "      <td>Bushmansted</td>\n",
       "      <td>Quito</td>\n",
       "      <td>#Real fleet fleek http ERzht</td>\n",
       "    </tr>\n",
       "    <tr>\n",
       "      <th>14272</th>\n",
       "      <td>5.696430e+17</td>\n",
       "      <td>negative</td>\n",
       "      <td>sarrraright</td>\n",
       "      <td>#nothelpful MT @AmericanAir: Our call volume i...</td>\n",
       "      <td>NaN</td>\n",
       "      <td>2/22/2015 15:42</td>\n",
       "      <td>Cathedral Heights</td>\n",
       "      <td>Eastern Time (US &amp; Canada)</td>\n",
       "      <td>#nothelpful call volume extremely high today a...</td>\n",
       "    </tr>\n",
       "    <tr>\n",
       "      <th>4978</th>\n",
       "      <td>5.695870e+17</td>\n",
       "      <td>negative</td>\n",
       "      <td>danihampton</td>\n",
       "      <td>&amp;lt;3 &amp;lt;3 RT @SouthwestAir! @danihampton Sor...</td>\n",
       "      <td>NaN</td>\n",
       "      <td>2/22/2015 11:58</td>\n",
       "      <td>None</td>\n",
       "      <td>Arizona</td>\n",
       "      <td>Sorry hear about WiFi connection Dani Please y...</td>\n",
       "    </tr>\n",
       "    <tr>\n",
       "      <th>7092</th>\n",
       "      <td>5.699380e+17</td>\n",
       "      <td>neutral</td>\n",
       "      <td>MelechT</td>\n",
       "      <td>*On the brink of bankruptcy. “@JetBlue: Our fl...</td>\n",
       "      <td>NaN</td>\n",
       "      <td>2/23/2015 11:14</td>\n",
       "      <td>DMV</td>\n",
       "      <td>Central Time (US &amp; Canada)</td>\n",
       "      <td>brink bankruptcy fleet fleek http ldxn</td>\n",
       "    </tr>\n",
       "  </tbody>\n",
       "</table>\n",
       "</div>"
      ],
      "text/plain": [
       "           tweet_id airline_sentiment          name  \\\n",
       "7064   5.699430e+17          positive  SeanUppercut   \n",
       "7008   5.699590e+17           neutral      UAKShine   \n",
       "14272  5.696430e+17          negative   sarrraright   \n",
       "4978   5.695870e+17          negative   danihampton   \n",
       "7092   5.699380e+17           neutral       MelechT   \n",
       "\n",
       "                                                    text tweet_coord  \\\n",
       "7064   \"LOL you guys are so on it\" - me, had this bee...         NaN   \n",
       "7008   #Real RT @JetBlue: Our fleet's on fleek. http:...         NaN   \n",
       "14272  #nothelpful MT @AmericanAir: Our call volume i...         NaN   \n",
       "4978   &lt;3 &lt;3 RT @SouthwestAir! @danihampton Sor...         NaN   \n",
       "7092   *On the brink of bankruptcy. “@JetBlue: Our fl...         NaN   \n",
       "\n",
       "         tweet_created     tweet_location               user_timezone  \\\n",
       "7064   2/23/2015 11:31        Detroit, MI                       Quito   \n",
       "7008   2/23/2015 12:34        Bushmansted                       Quito   \n",
       "14272  2/22/2015 15:42  Cathedral Heights  Eastern Time (US & Canada)   \n",
       "4978   2/22/2015 11:58               None                     Arizona   \n",
       "7092   2/23/2015 11:14                DMV  Central Time (US & Canada)   \n",
       "\n",
       "                                              tidy_tweet  \n",
       "7064   guys this been months fleet fleek http LYcARlTFHl  \n",
       "7008                        #Real fleet fleek http ERzht  \n",
       "14272  #nothelpful call volume extremely high today a...  \n",
       "4978   Sorry hear about WiFi connection Dani Please y...  \n",
       "7092              brink bankruptcy fleet fleek http ldxn  "
      ]
     },
     "execution_count": 54,
     "metadata": {},
     "output_type": "execute_result"
    }
   ],
   "source": [
    "tweets_df.head()"
   ]
  },
  {
   "cell_type": "markdown",
   "metadata": {},
   "source": [
    "### Tokenization"
   ]
  },
  {
   "cell_type": "code",
   "execution_count": 55,
   "metadata": {},
   "outputs": [],
   "source": [
    "tokenized_tweets = tweets_df['tidy_tweet'].apply(lambda x: x.split())"
   ]
  },
  {
   "cell_type": "code",
   "execution_count": 56,
   "metadata": {},
   "outputs": [
    {
     "data": {
      "text/plain": [
       "7064     [guys, this, been, months, fleet, fleek, http,...\n",
       "7008                    [#Real, fleet, fleek, http, ERzht]\n",
       "14272    [#nothelpful, call, volume, extremely, high, t...\n",
       "4978     [Sorry, hear, about, WiFi, connection, Dani, P...\n",
       "7092         [brink, bankruptcy, fleet, fleek, http, ldxn]\n",
       "Name: tidy_tweet, dtype: object"
      ]
     },
     "execution_count": 56,
     "metadata": {},
     "output_type": "execute_result"
    }
   ],
   "source": [
    "tokenized_tweets.head()"
   ]
  },
  {
   "cell_type": "markdown",
   "metadata": {},
   "source": [
    "### Stemming "
   ]
  },
  {
   "cell_type": "code",
   "execution_count": 57,
   "metadata": {},
   "outputs": [
    {
     "data": {
      "text/plain": [
       "7064     [guy, thi, been, month, fleet, fleek, http, ly...\n",
       "7008                    [#real, fleet, fleek, http, erzht]\n",
       "14272    [#nothelp, call, volum, extrem, high, today, a...\n",
       "4978     [sorri, hear, about, wifi, connect, dani, plea...\n",
       "7092         [brink, bankruptci, fleet, fleek, http, ldxn]\n",
       "Name: tidy_tweet, dtype: object"
      ]
     },
     "execution_count": 57,
     "metadata": {},
     "output_type": "execute_result"
    }
   ],
   "source": [
    "stemmer = PorterStemmer()\n",
    "\n",
    "tokenized_tweets = tokenized_tweets.apply(lambda x: [stemmer.stem(i) for i in x]) # stemming\n",
    "tokenized_tweets.head()"
   ]
  },
  {
   "cell_type": "code",
   "execution_count": 58,
   "metadata": {},
   "outputs": [],
   "source": [
    "# Aggregate tokens together again\n",
    "\n",
    "tokenized_tweets = [' '.join(token) for token in tokenized_tweets]"
   ]
  },
  {
   "cell_type": "code",
   "execution_count": 59,
   "metadata": {},
   "outputs": [],
   "source": [
    "tweets_df['tidy_tweet'] = tokenized_tweets"
   ]
  },
  {
   "cell_type": "code",
   "execution_count": 60,
   "metadata": {},
   "outputs": [
    {
     "data": {
      "text/html": [
       "<div>\n",
       "<style scoped>\n",
       "    .dataframe tbody tr th:only-of-type {\n",
       "        vertical-align: middle;\n",
       "    }\n",
       "\n",
       "    .dataframe tbody tr th {\n",
       "        vertical-align: top;\n",
       "    }\n",
       "\n",
       "    .dataframe thead th {\n",
       "        text-align: right;\n",
       "    }\n",
       "</style>\n",
       "<table border=\"1\" class=\"dataframe\">\n",
       "  <thead>\n",
       "    <tr style=\"text-align: right;\">\n",
       "      <th></th>\n",
       "      <th>tweet_id</th>\n",
       "      <th>airline_sentiment</th>\n",
       "      <th>name</th>\n",
       "      <th>text</th>\n",
       "      <th>tweet_coord</th>\n",
       "      <th>tweet_created</th>\n",
       "      <th>tweet_location</th>\n",
       "      <th>user_timezone</th>\n",
       "      <th>tidy_tweet</th>\n",
       "    </tr>\n",
       "  </thead>\n",
       "  <tbody>\n",
       "    <tr>\n",
       "      <th>7064</th>\n",
       "      <td>5.699430e+17</td>\n",
       "      <td>positive</td>\n",
       "      <td>SeanUppercut</td>\n",
       "      <td>\"LOL you guys are so on it\" - me, had this bee...</td>\n",
       "      <td>NaN</td>\n",
       "      <td>2/23/2015 11:31</td>\n",
       "      <td>Detroit, MI</td>\n",
       "      <td>Quito</td>\n",
       "      <td>guy thi been month fleet fleek http lycarltfhl</td>\n",
       "    </tr>\n",
       "    <tr>\n",
       "      <th>7008</th>\n",
       "      <td>5.699590e+17</td>\n",
       "      <td>neutral</td>\n",
       "      <td>UAKShine</td>\n",
       "      <td>#Real RT @JetBlue: Our fleet's on fleek. http:...</td>\n",
       "      <td>NaN</td>\n",
       "      <td>2/23/2015 12:34</td>\n",
       "      <td>Bushmansted</td>\n",
       "      <td>Quito</td>\n",
       "      <td>#real fleet fleek http erzht</td>\n",
       "    </tr>\n",
       "    <tr>\n",
       "      <th>14272</th>\n",
       "      <td>5.696430e+17</td>\n",
       "      <td>negative</td>\n",
       "      <td>sarrraright</td>\n",
       "      <td>#nothelpful MT @AmericanAir: Our call volume i...</td>\n",
       "      <td>NaN</td>\n",
       "      <td>2/22/2015 15:42</td>\n",
       "      <td>Cathedral Heights</td>\n",
       "      <td>Eastern Time (US &amp; Canada)</td>\n",
       "      <td>#nothelp call volum extrem high today apolog p...</td>\n",
       "    </tr>\n",
       "    <tr>\n",
       "      <th>4978</th>\n",
       "      <td>5.695870e+17</td>\n",
       "      <td>negative</td>\n",
       "      <td>danihampton</td>\n",
       "      <td>&amp;lt;3 &amp;lt;3 RT @SouthwestAir! @danihampton Sor...</td>\n",
       "      <td>NaN</td>\n",
       "      <td>2/22/2015 11:58</td>\n",
       "      <td>None</td>\n",
       "      <td>Arizona</td>\n",
       "      <td>sorri hear about wifi connect dani pleas your ...</td>\n",
       "    </tr>\n",
       "    <tr>\n",
       "      <th>7092</th>\n",
       "      <td>5.699380e+17</td>\n",
       "      <td>neutral</td>\n",
       "      <td>MelechT</td>\n",
       "      <td>*On the brink of bankruptcy. “@JetBlue: Our fl...</td>\n",
       "      <td>NaN</td>\n",
       "      <td>2/23/2015 11:14</td>\n",
       "      <td>DMV</td>\n",
       "      <td>Central Time (US &amp; Canada)</td>\n",
       "      <td>brink bankruptci fleet fleek http ldxn</td>\n",
       "    </tr>\n",
       "  </tbody>\n",
       "</table>\n",
       "</div>"
      ],
      "text/plain": [
       "           tweet_id airline_sentiment          name  \\\n",
       "7064   5.699430e+17          positive  SeanUppercut   \n",
       "7008   5.699590e+17           neutral      UAKShine   \n",
       "14272  5.696430e+17          negative   sarrraright   \n",
       "4978   5.695870e+17          negative   danihampton   \n",
       "7092   5.699380e+17           neutral       MelechT   \n",
       "\n",
       "                                                    text tweet_coord  \\\n",
       "7064   \"LOL you guys are so on it\" - me, had this bee...         NaN   \n",
       "7008   #Real RT @JetBlue: Our fleet's on fleek. http:...         NaN   \n",
       "14272  #nothelpful MT @AmericanAir: Our call volume i...         NaN   \n",
       "4978   &lt;3 &lt;3 RT @SouthwestAir! @danihampton Sor...         NaN   \n",
       "7092   *On the brink of bankruptcy. “@JetBlue: Our fl...         NaN   \n",
       "\n",
       "         tweet_created     tweet_location               user_timezone  \\\n",
       "7064   2/23/2015 11:31        Detroit, MI                       Quito   \n",
       "7008   2/23/2015 12:34        Bushmansted                       Quito   \n",
       "14272  2/22/2015 15:42  Cathedral Heights  Eastern Time (US & Canada)   \n",
       "4978   2/22/2015 11:58               None                     Arizona   \n",
       "7092   2/23/2015 11:14                DMV  Central Time (US & Canada)   \n",
       "\n",
       "                                              tidy_tweet  \n",
       "7064      guy thi been month fleet fleek http lycarltfhl  \n",
       "7008                        #real fleet fleek http erzht  \n",
       "14272  #nothelp call volum extrem high today apolog p...  \n",
       "4978   sorri hear about wifi connect dani pleas your ...  \n",
       "7092              brink bankruptci fleet fleek http ldxn  "
      ]
     },
     "execution_count": 60,
     "metadata": {},
     "output_type": "execute_result"
    }
   ],
   "source": [
    "tweets_df.head()"
   ]
  },
  {
   "cell_type": "markdown",
   "metadata": {},
   "source": [
    "## Exploring Tweets"
   ]
  },
  {
   "cell_type": "markdown",
   "metadata": {},
   "source": [
    "## what are the common words? "
   ]
  },
  {
   "cell_type": "code",
   "execution_count": 61,
   "metadata": {},
   "outputs": [
    {
     "ename": "NameError",
     "evalue": "name 'WordCloud' is not defined",
     "output_type": "error",
     "traceback": [
      "\u001b[0;31m---------------------------------------------------------------------------\u001b[0m",
      "\u001b[0;31mNameError\u001b[0m                                 Traceback (most recent call last)",
      "\u001b[0;32m<ipython-input-61-abb2c904392b>\u001b[0m in \u001b[0;36m<module>\u001b[0;34m\u001b[0m\n\u001b[1;32m      1\u001b[0m \u001b[0;31m# All Common words\u001b[0m\u001b[0;34m\u001b[0m\u001b[0;34m\u001b[0m\u001b[0;34m\u001b[0m\u001b[0m\n\u001b[1;32m      2\u001b[0m \u001b[0mall_words\u001b[0m \u001b[0;34m=\u001b[0m \u001b[0;34m' '\u001b[0m\u001b[0;34m.\u001b[0m\u001b[0mjoin\u001b[0m\u001b[0;34m(\u001b[0m\u001b[0;34m[\u001b[0m\u001b[0mtext\u001b[0m \u001b[0;32mfor\u001b[0m \u001b[0mtext\u001b[0m \u001b[0;32min\u001b[0m \u001b[0mtweets_df\u001b[0m\u001b[0;34m[\u001b[0m\u001b[0;34m'tidy_tweet'\u001b[0m\u001b[0;34m]\u001b[0m\u001b[0;34m]\u001b[0m\u001b[0;34m)\u001b[0m\u001b[0;34m\u001b[0m\u001b[0;34m\u001b[0m\u001b[0m\n\u001b[0;32m----> 3\u001b[0;31m \u001b[0mwordcloud\u001b[0m \u001b[0;34m=\u001b[0m \u001b[0mWordCloud\u001b[0m\u001b[0;34m(\u001b[0m\u001b[0mwidth\u001b[0m\u001b[0;34m=\u001b[0m\u001b[0;36m800\u001b[0m\u001b[0;34m,\u001b[0m \u001b[0mheight\u001b[0m\u001b[0;34m=\u001b[0m\u001b[0;36m500\u001b[0m\u001b[0;34m,\u001b[0m \u001b[0mrandom_state\u001b[0m\u001b[0;34m=\u001b[0m\u001b[0;36m21\u001b[0m\u001b[0;34m,\u001b[0m \u001b[0mmax_font_size\u001b[0m\u001b[0;34m=\u001b[0m\u001b[0;36m110\u001b[0m\u001b[0;34m)\u001b[0m\u001b[0;34m.\u001b[0m\u001b[0mgenerate\u001b[0m\u001b[0;34m(\u001b[0m\u001b[0mall_words\u001b[0m\u001b[0;34m)\u001b[0m\u001b[0;34m\u001b[0m\u001b[0;34m\u001b[0m\u001b[0m\n\u001b[0m\u001b[1;32m      4\u001b[0m \u001b[0;34m\u001b[0m\u001b[0m\n\u001b[1;32m      5\u001b[0m \u001b[0mplt\u001b[0m\u001b[0;34m.\u001b[0m\u001b[0mfigure\u001b[0m\u001b[0;34m(\u001b[0m\u001b[0mfigsize\u001b[0m\u001b[0;34m=\u001b[0m\u001b[0;34m(\u001b[0m\u001b[0;36m10\u001b[0m\u001b[0;34m,\u001b[0m \u001b[0;36m7\u001b[0m\u001b[0;34m)\u001b[0m\u001b[0;34m)\u001b[0m\u001b[0;34m\u001b[0m\u001b[0;34m\u001b[0m\u001b[0m\n",
      "\u001b[0;31mNameError\u001b[0m: name 'WordCloud' is not defined"
     ]
    }
   ],
   "source": [
    "# All Common words \n",
    "all_words = ' '.join([text for text in tweets_df['tidy_tweet']])\n",
    "wordcloud = WordCloud(width=800, height=500, random_state=21, max_font_size=110).generate(all_words)\n",
    "\n",
    "plt.figure(figsize=(10, 7))\n",
    "plt.imshow(wordcloud, interpolation=\"bilinear\")\n",
    "plt.axis('off')\n",
    "plt.show()"
   ]
  },
  {
   "cell_type": "code",
   "execution_count": null,
   "metadata": {},
   "outputs": [],
   "source": [
    "# All Positive words \n",
    "all_words = ' '.join([text for text in tweets_df['tidy_tweet'][tweets_df['airline_sentiment'] == 'positive']])\n",
    "\n",
    "wordcloud = WordCloud(width=800, height=500, random_state=21, max_font_size=110).generate(all_words)\n",
    "\n",
    "plt.figure(figsize=(10, 7))\n",
    "plt.imshow(wordcloud, interpolation=\"bilinear\")\n",
    "plt.axis('off')\n",
    "plt.show()"
   ]
  },
  {
   "cell_type": "code",
   "execution_count": null,
   "metadata": {},
   "outputs": [],
   "source": [
    "# All Negative words \n",
    "all_words = ' '.join([text for text in tweets_df['tidy_tweet'][tweets_df['airline_sentiment'] == 'negative']])\n",
    "\n",
    "wordcloud = WordCloud(width=800, height=500, random_state=21, max_font_size=110).generate(all_words)\n",
    "\n",
    "plt.figure(figsize=(10, 7))\n",
    "plt.imshow(wordcloud, interpolation=\"bilinear\")\n",
    "plt.axis('off')\n",
    "plt.show()"
   ]
  },
  {
   "cell_type": "markdown",
   "metadata": {},
   "source": [
    "## Create test set"
   ]
  },
  {
   "cell_type": "code",
   "execution_count": null,
   "metadata": {},
   "outputs": [],
   "source": [
    "train_set, test_set = train_test_split(tweets_df, test_size=0.2, random_state=42)"
   ]
  },
  {
   "cell_type": "code",
   "execution_count": null,
   "metadata": {},
   "outputs": [],
   "source": [
    "len(train_set)"
   ]
  },
  {
   "cell_type": "code",
   "execution_count": null,
   "metadata": {},
   "outputs": [],
   "source": [
    "len(test_set)"
   ]
  },
  {
   "cell_type": "markdown",
   "metadata": {},
   "source": [
    "## Feature engineering"
   ]
  },
  {
   "cell_type": "code",
   "execution_count": null,
   "metadata": {},
   "outputs": [],
   "source": [
    "tfidf = TfidfVectorizer(sublinear_tf=True, min_df=5, norm='l2', encoding='latin-1', ngram_range=(1, 3), stop_words='english')\n",
    "features = tfidf.fit_transform(tweets_df['tidy_tweet']).toarray()\n",
    "labels = tweets_df['airline_sentiment']\n",
    "features.shape"
   ]
  },
  {
   "cell_type": "markdown",
   "metadata": {},
   "source": [
    "## Building the model"
   ]
  },
  {
   "cell_type": "markdown",
   "metadata": {},
   "source": [
    "### Vectorization"
   ]
  },
  {
   "cell_type": "code",
   "execution_count": null,
   "metadata": {},
   "outputs": [],
   "source": [
    "mapper = DataFrameMapper([\n",
    "     ('tidy_tweet', TfidfVectorizer(norm='l2', ngram_range=(1, 1), stop_words='english')),\n",
    "     ('name', TfidfVectorizer()),\n",
    "     ('tweet_location', TfidfVectorizer()),\n",
    "     ('user_timezone', TfidfVectorizer()),\n",
    " ])\n",
    "\n",
    "features = mapper.fit_transform(train_set)"
   ]
  },
  {
   "cell_type": "markdown",
   "metadata": {},
   "source": [
    "### Create Evaluation set"
   ]
  },
  {
   "cell_type": "code",
   "execution_count": null,
   "metadata": {},
   "outputs": [],
   "source": [
    "categories = train_set.airline_sentiment\n",
    "\n",
    "x, x_eval, y, y_eval = train_test_split(features,categories,test_size=0.2,train_size=0.8, random_state = 0)"
   ]
  },
  {
   "cell_type": "code",
   "execution_count": null,
   "metadata": {},
   "outputs": [],
   "source": [
    "# Check Accuracy\n",
    "from sklearn.metrics import confusion_matrix \n",
    "from sklearn.metrics import accuracy_score \n",
    "from sklearn.metrics import classification_report \n",
    "\n",
    "\n",
    "def print_accuracy():\n",
    "    y_pred = clf.predict(x_eval)\n",
    "\n",
    "    from sklearn.metrics import confusion_matrix\n",
    "    conf_mat = confusion_matrix(y_eval, y_pred)\n",
    "\n",
    "    fig, ax = plt.subplots(figsize=(10,10))\n",
    "    sns.heatmap(conf_mat, annot=True, fmt='d',\n",
    "                xticklabels=tweets_df.airline_sentiment.unique(), \n",
    "                yticklabels=tweets_df.airline_sentiment.unique())\n",
    "    plt.ylabel('Actual')\n",
    "    plt.xlabel('Predicted')\n",
    "    plt.show()\n",
    "    \n",
    "    print('Accuracy Score :',accuracy_score(y_eval, y_pred))\n",
    "    print('')\n",
    "    print(classification_report(y_eval, y_pred, target_names=tweets_df.airline_sentiment.unique()))"
   ]
  },
  {
   "cell_type": "markdown",
   "metadata": {},
   "source": [
    "### RandomForest"
   ]
  },
  {
   "cell_type": "code",
   "execution_count": null,
   "metadata": {},
   "outputs": [],
   "source": [
    "from sklearn.ensemble import RandomForestClassifier\n",
    "\n",
    "clf = RandomForestClassifier(random_state=0)\n",
    "clf.fit(x, y)\n",
    "print_accuracy()"
   ]
  },
  {
   "cell_type": "markdown",
   "metadata": {},
   "source": [
    "### Naiive Bayes"
   ]
  },
  {
   "cell_type": "code",
   "execution_count": null,
   "metadata": {},
   "outputs": [],
   "source": [
    "from sklearn.naive_bayes import MultinomialNB\n",
    "clf = MultinomialNB().fit(x, y)\n",
    "print_accuracy()"
   ]
  },
  {
   "cell_type": "markdown",
   "metadata": {},
   "source": [
    "### Logistic Regression"
   ]
  },
  {
   "cell_type": "code",
   "execution_count": null,
   "metadata": {},
   "outputs": [],
   "source": [
    "from sklearn.linear_model import LogisticRegression\n",
    "clf = LogisticRegression(random_state=0).fit(x, y)\n",
    "print_accuracy()"
   ]
  },
  {
   "cell_type": "markdown",
   "metadata": {},
   "source": [
    "### SVM"
   ]
  },
  {
   "cell_type": "code",
   "execution_count": null,
   "metadata": {},
   "outputs": [],
   "source": [
    "from sklearn.svm import LinearSVC\n",
    "clf = LinearSVC().fit(x, y)\n",
    "print_accuracy()"
   ]
  },
  {
   "cell_type": "code",
   "execution_count": null,
   "metadata": {},
   "outputs": [],
   "source": []
  }
 ],
 "metadata": {
  "kernelspec": {
   "display_name": "Python 3",
   "language": "python",
   "name": "python3"
  },
  "language_info": {
   "codemirror_mode": {
    "name": "ipython",
    "version": 3
   },
   "file_extension": ".py",
   "mimetype": "text/x-python",
   "name": "python",
   "nbconvert_exporter": "python",
   "pygments_lexer": "ipython3",
   "version": "3.7.3"
  }
 },
 "nbformat": 4,
 "nbformat_minor": 2
}
